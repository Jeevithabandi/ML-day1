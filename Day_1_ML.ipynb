{
  "nbformat": 4,
  "nbformat_minor": 0,
  "metadata": {
    "colab": {
      "name": "Day-1_ML.ipynb",
      "provenance": [],
      "authorship_tag": "ABX9TyPj4QBtIrxh5/E+xbI2tMAG",
      "include_colab_link": true
    },
    "kernelspec": {
      "name": "python3",
      "display_name": "Python 3"
    },
    "language_info": {
      "name": "python"
    }
  },
  "cells": [
    {
      "cell_type": "markdown",
      "metadata": {
        "id": "view-in-github",
        "colab_type": "text"
      },
      "source": [
        "<a href=\"https://colab.research.google.com/github/Jeevithabandi/ML-day1/blob/main/Day_1_ML.ipynb\" target=\"_parent\"><img src=\"https://colab.research.google.com/assets/colab-badge.svg\" alt=\"Open In Colab\"/></a>"
      ]
    },
    {
      "cell_type": "markdown",
      "metadata": {
        "id": "QgYNUkQwM5OE"
      },
      "source": [
        "**Numpy**"
      ]
    },
    {
      "cell_type": "code",
      "metadata": {
        "colab": {
          "base_uri": "https://localhost:8080/"
        },
        "id": "XMFzfqCeM-Yb",
        "outputId": "998a0a3e-460f-4e56-c63a-6dab9610a9e1"
      },
      "source": [
        "# Is for mathematical operations\n",
        "\n",
        "import numpy as np\n",
        "\n",
        "a = [1,2,3,4,5]\n",
        "\n",
        "arr1 = np.array(a)\n",
        "\n",
        "b = [[1,2,3,4,],[5,6,7,8]]\n",
        "\n",
        "arr2 = np.array(b)\n",
        "\n",
        "print(arr1)\n",
        "print(arr2)"
      ],
      "execution_count": 2,
      "outputs": [
        {
          "output_type": "stream",
          "text": [
            "[1 2 3 4 5]\n",
            "[[1 2 3 4]\n",
            " [5 6 7 8]]\n"
          ],
          "name": "stdout"
        }
      ]
    },
    {
      "cell_type": "code",
      "metadata": {
        "colab": {
          "base_uri": "https://localhost:8080/"
        },
        "id": "sc5K42aBNxir",
        "outputId": "d535b888-8043-4342-aa1f-1f1f289f503d"
      },
      "source": [
        "print(type(a),\n",
        "type(arr1),\n",
        "type(b),\n",
        "type(arr2),)"
      ],
      "execution_count": 3,
      "outputs": [
        {
          "output_type": "stream",
          "text": [
            "<class 'list'> <class 'numpy.ndarray'> <class 'list'> <class 'numpy.ndarray'>\n"
          ],
          "name": "stdout"
        }
      ]
    },
    {
      "cell_type": "code",
      "metadata": {
        "colab": {
          "base_uri": "https://localhost:8080/"
        },
        "id": "q-73SzR3OHZ9",
        "outputId": "8bbf551f-158e-4fbd-9eb6-066f68e5292e"
      },
      "source": [
        "import sys\n",
        "\n",
        "s = range(1000)\n",
        "\n",
        "print(\"Size of each elements in the list in bytes\", sys.getsizeof(s))\n",
        "\n",
        "print(\"Complete list size in bytes\",sys.getsizeof(s) * len(s))"
      ],
      "execution_count": 4,
      "outputs": [
        {
          "output_type": "stream",
          "text": [
            "Size of each elements in the list in bytes 48\n",
            "Complete list size in bytes 48000\n"
          ],
          "name": "stdout"
        }
      ]
    },
    {
      "cell_type": "code",
      "metadata": {
        "colab": {
          "base_uri": "https://localhost:8080/"
        },
        "id": "murz1QutOr7S",
        "outputId": "c806a534-4193-485c-cf07-9c3ed9e49d3f"
      },
      "source": [
        "# We are checking comparison between numpy size and normal size of \"sys\" package\n",
        "\n",
        "import numpy as np\n",
        "\n",
        "s = np.arange(100)\n",
        "\n",
        "print(\"Size of each elements in the list by bytes\", s.itemsize)\n",
        "\n",
        "print(\"Complete list size in bytes\", s.size * s.itemsize)\n"
      ],
      "execution_count": 8,
      "outputs": [
        {
          "output_type": "stream",
          "text": [
            "Size of each elements in the list by bytes 8\n",
            "Complete list size in bytes 800\n"
          ],
          "name": "stdout"
        }
      ]
    },
    {
      "cell_type": "code",
      "metadata": {
        "colab": {
          "base_uri": "https://localhost:8080/"
        },
        "id": "esxQazVBPv8o",
        "outputId": "fb343679-e9a0-427b-cc42-ea4cdaf9c2ad"
      },
      "source": [
        "# IMport time library and make execution time taking by the system\n",
        "\n",
        "import time\n",
        "\n",
        "a = range(1000)\n",
        "b = range(1000)\n",
        "\n",
        "start = time.time()\n",
        "\n",
        "ab=[(a*b) for a,b in zip(a,b)]\n",
        "\n",
        "end = time.time()\n",
        "\n",
        "print(\"Total time taken\", end - start)\n"
      ],
      "execution_count": 11,
      "outputs": [
        {
          "output_type": "stream",
          "text": [
            "Total time taken 0.0001842975616455078\n"
          ],
          "name": "stdout"
        }
      ]
    },
    {
      "cell_type": "code",
      "metadata": {
        "colab": {
          "base_uri": "https://localhost:8080/"
        },
        "id": "-TAKm5W0Q2uN",
        "outputId": "a766733f-eff5-4408-c539-8b6e62aee452"
      },
      "source": [
        "import numpy\n",
        "\n",
        "arr1 = np.arange(1000)\n",
        "arr2 = np.arange(1000)\n",
        "\n",
        "start = time.time()\n",
        "\n",
        "arr_mul = arr1*arr2\n",
        "\n",
        "end = time.time()\n",
        "\n",
        "print(\"Total time taken\", end - start)\n"
      ],
      "execution_count": 15,
      "outputs": [
        {
          "output_type": "stream",
          "text": [
            "Total time taken 0.00010347366333007812\n"
          ],
          "name": "stdout"
        }
      ]
    },
    {
      "cell_type": "code",
      "metadata": {
        "colab": {
          "base_uri": "https://localhost:8080/"
        },
        "id": "ROQivjPSRb2K",
        "outputId": "b871e00a-f547-4476-e8ba-fe405453b366"
      },
      "source": [
        "lst1 = [1,2,3,4,]\n",
        "arr=np.array(lst1)\n",
        "print(arr)\n",
        " "
      ],
      "execution_count": 21,
      "outputs": [
        {
          "output_type": "stream",
          "text": [
            "[1 2 3 4]\n"
          ],
          "name": "stdout"
        }
      ]
    },
    {
      "cell_type": "code",
      "metadata": {
        "colab": {
          "base_uri": "https://localhost:8080/"
        },
        "id": "YWjxb48tSeRy",
        "outputId": "783339f8-4a1d-4d0a-98a4-4002f06b4534"
      },
      "source": [
        "print(arr + 1)"
      ],
      "execution_count": 22,
      "outputs": [
        {
          "output_type": "stream",
          "text": [
            "[2 3 4 5]\n"
          ],
          "name": "stdout"
        }
      ]
    },
    {
      "cell_type": "code",
      "metadata": {
        "colab": {
          "base_uri": "https://localhost:8080/"
        },
        "id": "s3EMivP3Sl3X",
        "outputId": "de5d8a09-d2e5-425d-c3c8-28a54783637b"
      },
      "source": [
        "arr1=np.array([[1,2,3,4],[5,6,7,8]], ndmin=2) #ndim means n dimension\n",
        "print(arr1)"
      ],
      "execution_count": 24,
      "outputs": [
        {
          "output_type": "stream",
          "text": [
            "[[1 2 3 4]\n",
            " [5 6 7 8]]\n"
          ],
          "name": "stdout"
        }
      ]
    },
    {
      "cell_type": "code",
      "metadata": {
        "colab": {
          "base_uri": "https://localhost:8080/"
        },
        "id": "t7kbuk1ZViY0",
        "outputId": "85881feb-2ee3-41c1-8825-3aa7fc4227f3"
      },
      "source": [
        "arr2=list(arr1)\n",
        "print(arr2)"
      ],
      "execution_count": 25,
      "outputs": [
        {
          "output_type": "stream",
          "text": [
            "[array([1, 2, 3, 4]), array([5, 6, 7, 8])]\n"
          ],
          "name": "stdout"
        }
      ]
    },
    {
      "cell_type": "code",
      "metadata": {
        "colab": {
          "base_uri": "https://localhost:8080/"
        },
        "id": "L__OLNkcWLTC",
        "outputId": "f148f84b-d786-402f-d54c-c23022b84330"
      },
      "source": [
        "print(type(arr1),\n",
        "type(arr2))"
      ],
      "execution_count": 27,
      "outputs": [
        {
          "output_type": "stream",
          "text": [
            "<class 'numpy.ndarray'> <class 'list'>\n"
          ],
          "name": "stdout"
        }
      ]
    },
    {
      "cell_type": "code",
      "metadata": {
        "id": "dikz2thIWPpE"
      },
      "source": [
        ""
      ],
      "execution_count": null,
      "outputs": []
    }
  ]
}